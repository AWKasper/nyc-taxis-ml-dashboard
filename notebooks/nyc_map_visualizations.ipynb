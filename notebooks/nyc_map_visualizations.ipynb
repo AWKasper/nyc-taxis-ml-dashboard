{
 "cells": [
  {
   "cell_type": "code",
   "execution_count": null,
   "metadata": {},
   "outputs": [],
   "source": [
    "#Run once, if you want to run it again restart and clear the outputs of all cells\n",
    "\n",
    "import os\n",
    "import sys\n",
    "\n",
    "#Add modules to sys.path\n",
    "module_path = os.path.abspath(os.getcwd() + '\\\\..')\n",
    "if module_path not in sys.path:\n",
    "    sys.path.append(module_path)\n",
    "\n",
    "#Go up one directory\n",
    "os.chdir(os.path.dirname(os.getcwd()))\n",
    "\n",
    "mycwd = os.getcwd()\n",
    "\n",
    "\n"
   ]
  },
  {
   "cell_type": "code",
   "execution_count": null,
   "metadata": {},
   "outputs": [],
   "source": [
    "#Imports\n",
    "from src.visualization.shapes_mapping import *"
   ]
  },
  {
   "cell_type": "code",
   "execution_count": null,
   "metadata": {},
   "outputs": [],
   "source": [
    "#Plotting NYC zones\n",
    "\n",
    "plottingNYC(os.path.abspath(r'data\\processed\\taxi_zones\\taxi_zones.shp'), 'borough')\n",
    "\n",
    "#Going back to the working directory from before\n",
    "os.chdir(fr'{mycwd}')\n",
    "\n"
   ]
  },
  {
   "cell_type": "code",
   "execution_count": null,
   "metadata": {},
   "outputs": [],
   "source": []
  }
 ],
 "metadata": {
  "interpreter": {
   "hash": "6a26616b14e036b82bb83071402087b0e4fcfadb893de6408fb094352c6c05ea"
  },
  "kernelspec": {
   "display_name": "Python 3.9.7 ('base')",
   "language": "python",
   "name": "python3"
  },
  "language_info": {
   "codemirror_mode": {
    "name": "ipython",
    "version": 3
   },
   "file_extension": ".py",
   "mimetype": "text/x-python",
   "name": "python",
   "nbconvert_exporter": "python",
   "pygments_lexer": "ipython3",
   "version": "3.9.7"
  },
  "orig_nbformat": 4
 },
 "nbformat": 4,
 "nbformat_minor": 2
}
