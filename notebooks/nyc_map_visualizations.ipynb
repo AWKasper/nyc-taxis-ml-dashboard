{
 "cells": [
  {
   "cell_type": "code",
   "execution_count": 4,
   "metadata": {},
   "outputs": [],
   "source": [
    "#Run once, if you want to run it again restart and clear the outputs of all cells\n",
    "\n",
    "import os\n",
    "import sys\n",
    "\n",
    "#Add modules to sys.path\n",
    "module_path = os.path.abspath(os.getcwd() + '\\\\..')\n",
    "if module_path not in sys.path:\n",
    "    sys.path.append(module_path)\n",
    "\n",
    "#Go up one directory\n",
    "os.chdir(os.path.dirname(os.getcwd()))\n",
    "\n",
    "mycwd = os.getcwd()\n",
    "\n",
    "\n"
   ]
  },
  {
   "cell_type": "code",
   "execution_count": 5,
   "metadata": {},
   "outputs": [],
   "source": [
    "#Imports\n",
    "from src.visualization.shapes_mapping import plotting_map"
   ]
  },
  {
   "cell_type": "code",
   "execution_count": null,
   "metadata": {},
   "outputs": [],
   "source": [
    "#Plotting NYC zones\n",
    "\n",
    "plotting_map(os.path.abspath(r'data\\processed\\taxi_zones\\taxi_zones.shp'), 'borough')\n",
    "\n",
    "\n",
    "#Going back to the working directory from before\n",
    "os.chdir(fr'{mycwd}')\n",
    "\n"
   ]
  }
 ],
 "metadata": {
  "interpreter": {
   "hash": "0141e79beee3a92bc1ba25a0e89434395b7d257d856a6574fc0af537f9e978c2"
  },
  "kernelspec": {
   "display_name": "Python 3.9.7 ('base')",
   "language": "python",
   "name": "python3"
  },
  "language_info": {
   "codemirror_mode": {
    "name": "ipython",
    "version": 3
   },
   "file_extension": ".py",
   "mimetype": "text/x-python",
   "name": "python",
   "nbconvert_exporter": "python",
   "pygments_lexer": "ipython3",
   "version": "3.9.7"
  },
  "orig_nbformat": 4
 },
 "nbformat": 4,
 "nbformat_minor": 2
}
